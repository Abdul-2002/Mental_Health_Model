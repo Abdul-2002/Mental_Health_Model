{
 "cells": [
  {
   "cell_type": "code",
   "execution_count": 4,
   "metadata": {},
   "outputs": [],
   "source": [
    "import numpy as np\n",
    "import pandas as pd\n",
    "import os\n",
    "for dirname, _, filenames in os.walk('/kaggle/input'):\n",
    "    for filename in filenames:\n",
    "        print(os.path.join(dirname, filename))\n"
   ]
  },
  {
   "cell_type": "code",
   "execution_count": 5,
   "metadata": {},
   "outputs": [
    {
     "ename": "FileNotFoundError",
     "evalue": "[Errno 2] No such file or directory: 'C:/Users/A.A.S/Documents/CODING/AI/Mental Heath/intents.json'",
     "output_type": "error",
     "traceback": [
      "\u001b[1;31m---------------------------------------------------------------------------\u001b[0m",
      "\u001b[1;31mFileNotFoundError\u001b[0m                         Traceback (most recent call last)",
      "Cell \u001b[1;32mIn[5], line 3\u001b[0m\n\u001b[0;32m      1\u001b[0m \u001b[39mimport\u001b[39;00m \u001b[39mjson\u001b[39;00m\n\u001b[1;32m----> 3\u001b[0m \u001b[39mwith\u001b[39;00m \u001b[39mopen\u001b[39;49m(\u001b[39m'\u001b[39;49m\u001b[39mC:/Users/A.A.S/Documents/CODING/AI/Mental Heath/intents.json\u001b[39;49m\u001b[39m'\u001b[39;49m, \u001b[39m'\u001b[39;49m\u001b[39mr\u001b[39;49m\u001b[39m'\u001b[39;49m) \u001b[39mas\u001b[39;00m f:\n\u001b[0;32m      4\u001b[0m     data \u001b[39m=\u001b[39m json\u001b[39m.\u001b[39mload(f)\n\u001b[0;32m      6\u001b[0m df \u001b[39m=\u001b[39m pd\u001b[39m.\u001b[39mDataFrame(data[\u001b[39m'\u001b[39m\u001b[39mintents\u001b[39m\u001b[39m'\u001b[39m])\n",
      "File \u001b[1;32m~\\AppData\\Roaming\\Python\\Python311\\site-packages\\IPython\\core\\interactiveshell.py:284\u001b[0m, in \u001b[0;36m_modified_open\u001b[1;34m(file, *args, **kwargs)\u001b[0m\n\u001b[0;32m    277\u001b[0m \u001b[39mif\u001b[39;00m file \u001b[39min\u001b[39;00m {\u001b[39m0\u001b[39m, \u001b[39m1\u001b[39m, \u001b[39m2\u001b[39m}:\n\u001b[0;32m    278\u001b[0m     \u001b[39mraise\u001b[39;00m \u001b[39mValueError\u001b[39;00m(\n\u001b[0;32m    279\u001b[0m         \u001b[39mf\u001b[39m\u001b[39m\"\u001b[39m\u001b[39mIPython won\u001b[39m\u001b[39m'\u001b[39m\u001b[39mt let you open fd=\u001b[39m\u001b[39m{\u001b[39;00mfile\u001b[39m}\u001b[39;00m\u001b[39m by default \u001b[39m\u001b[39m\"\u001b[39m\n\u001b[0;32m    280\u001b[0m         \u001b[39m\"\u001b[39m\u001b[39mas it is likely to crash IPython. If you know what you are doing, \u001b[39m\u001b[39m\"\u001b[39m\n\u001b[0;32m    281\u001b[0m         \u001b[39m\"\u001b[39m\u001b[39myou can use builtins\u001b[39m\u001b[39m'\u001b[39m\u001b[39m open.\u001b[39m\u001b[39m\"\u001b[39m\n\u001b[0;32m    282\u001b[0m     )\n\u001b[1;32m--> 284\u001b[0m \u001b[39mreturn\u001b[39;00m io_open(file, \u001b[39m*\u001b[39;49margs, \u001b[39m*\u001b[39;49m\u001b[39m*\u001b[39;49mkwargs)\n",
      "\u001b[1;31mFileNotFoundError\u001b[0m: [Errno 2] No such file or directory: 'C:/Users/A.A.S/Documents/CODING/AI/Mental Heath/intents.json'"
     ]
    }
   ],
   "source": [
    "import json\n",
    "\n",
    "with open('C:/Users/A.A.S/Documents/CODING/AI/Mental Heath/intents.json', 'r') as f:\n",
    "    data = json.load(f)\n",
    "\n",
    "df = pd.DataFrame(data['intents'])"
   ]
  },
  {
   "cell_type": "code",
   "execution_count": null,
   "metadata": {},
   "outputs": [
    {
     "data": {
      "text/html": [
       "<div>\n",
       "<style scoped>\n",
       "    .dataframe tbody tr th:only-of-type {\n",
       "        vertical-align: middle;\n",
       "    }\n",
       "\n",
       "    .dataframe tbody tr th {\n",
       "        vertical-align: top;\n",
       "    }\n",
       "\n",
       "    .dataframe thead th {\n",
       "        text-align: right;\n",
       "    }\n",
       "</style>\n",
       "<table border=\"1\" class=\"dataframe\">\n",
       "  <thead>\n",
       "    <tr style=\"text-align: right;\">\n",
       "      <th></th>\n",
       "      <th>tag</th>\n",
       "      <th>patterns</th>\n",
       "      <th>responses</th>\n",
       "    </tr>\n",
       "  </thead>\n",
       "  <tbody>\n",
       "    <tr>\n",
       "      <th>0</th>\n",
       "      <td>greeting</td>\n",
       "      <td>Hi</td>\n",
       "      <td>[Hello there. Tell me how are you feeling toda...</td>\n",
       "    </tr>\n",
       "    <tr>\n",
       "      <th>1</th>\n",
       "      <td>greeting</td>\n",
       "      <td>Hey</td>\n",
       "      <td>[Hello there. Tell me how are you feeling toda...</td>\n",
       "    </tr>\n",
       "    <tr>\n",
       "      <th>2</th>\n",
       "      <td>greeting</td>\n",
       "      <td>Is anyone there?</td>\n",
       "      <td>[Hello there. Tell me how are you feeling toda...</td>\n",
       "    </tr>\n",
       "    <tr>\n",
       "      <th>3</th>\n",
       "      <td>greeting</td>\n",
       "      <td>Hi there</td>\n",
       "      <td>[Hello there. Tell me how are you feeling toda...</td>\n",
       "    </tr>\n",
       "    <tr>\n",
       "      <th>4</th>\n",
       "      <td>greeting</td>\n",
       "      <td>Hello</td>\n",
       "      <td>[Hello there. Tell me how are you feeling toda...</td>\n",
       "    </tr>\n",
       "    <tr>\n",
       "      <th>...</th>\n",
       "      <td>...</td>\n",
       "      <td>...</td>\n",
       "      <td>...</td>\n",
       "    </tr>\n",
       "    <tr>\n",
       "      <th>227</th>\n",
       "      <td>fact-29</td>\n",
       "      <td>How do I know if I'm unwell?</td>\n",
       "      <td>[If your beliefs , thoughts , feelings or beha...</td>\n",
       "    </tr>\n",
       "    <tr>\n",
       "      <th>228</th>\n",
       "      <td>fact-30</td>\n",
       "      <td>How can I maintain social connections? What if...</td>\n",
       "      <td>[A lot of people are alone right now, but we d...</td>\n",
       "    </tr>\n",
       "    <tr>\n",
       "      <th>229</th>\n",
       "      <td>fact-31</td>\n",
       "      <td>What's the difference between anxiety and stress?</td>\n",
       "      <td>[Stress and anxiety are often used interchange...</td>\n",
       "    </tr>\n",
       "    <tr>\n",
       "      <th>230</th>\n",
       "      <td>fact-32</td>\n",
       "      <td>What's the difference between sadness and depr...</td>\n",
       "      <td>[Sadness is a normal reaction to a loss, disap...</td>\n",
       "    </tr>\n",
       "    <tr>\n",
       "      <th>231</th>\n",
       "      <td>fact-32</td>\n",
       "      <td>difference between sadness and depression</td>\n",
       "      <td>[Sadness is a normal reaction to a loss, disap...</td>\n",
       "    </tr>\n",
       "  </tbody>\n",
       "</table>\n",
       "<p>232 rows × 3 columns</p>\n",
       "</div>"
      ],
      "text/plain": [
       "          tag                                           patterns  \\\n",
       "0    greeting                                                 Hi   \n",
       "1    greeting                                                Hey   \n",
       "2    greeting                                   Is anyone there?   \n",
       "3    greeting                                           Hi there   \n",
       "4    greeting                                              Hello   \n",
       "..        ...                                                ...   \n",
       "227   fact-29                       How do I know if I'm unwell?   \n",
       "228   fact-30  How can I maintain social connections? What if...   \n",
       "229   fact-31  What's the difference between anxiety and stress?   \n",
       "230   fact-32  What's the difference between sadness and depr...   \n",
       "231   fact-32          difference between sadness and depression   \n",
       "\n",
       "                                             responses  \n",
       "0    [Hello there. Tell me how are you feeling toda...  \n",
       "1    [Hello there. Tell me how are you feeling toda...  \n",
       "2    [Hello there. Tell me how are you feeling toda...  \n",
       "3    [Hello there. Tell me how are you feeling toda...  \n",
       "4    [Hello there. Tell me how are you feeling toda...  \n",
       "..                                                 ...  \n",
       "227  [If your beliefs , thoughts , feelings or beha...  \n",
       "228  [A lot of people are alone right now, but we d...  \n",
       "229  [Stress and anxiety are often used interchange...  \n",
       "230  [Sadness is a normal reaction to a loss, disap...  \n",
       "231  [Sadness is a normal reaction to a loss, disap...  \n",
       "\n",
       "[232 rows x 3 columns]"
      ]
     },
     "execution_count": 20,
     "metadata": {},
     "output_type": "execute_result"
    }
   ],
   "source": [
    "dic = {\"tag\":[], \"patterns\":[], \"responses\":[]}\n",
    "for i in range(len(df)):\n",
    "    ptrns = df[df.index == i]['patterns'].values[0]\n",
    "    rspns = df[df.index == i]['responses'].values[0]\n",
    "    tag = df[df.index == i]['tag'].values[0]\n",
    "    for j in range(len(ptrns)):\n",
    "        dic['tag'].append(tag)\n",
    "        dic['patterns'].append(ptrns[j])\n",
    "        dic['responses'].append(rspns)\n",
    "        \n",
    "df = pd.DataFrame.from_dict(dic)\n",
    "df"
   ]
  },
  {
   "cell_type": "code",
   "execution_count": null,
   "metadata": {},
   "outputs": [
    {
     "data": {
      "text/plain": [
       "array(['greeting', 'morning', 'afternoon', 'evening', 'night', 'goodbye',\n",
       "       'thanks', 'no-response', 'neutral-response', 'about', 'skill',\n",
       "       'creation', 'name', 'help', 'sad', 'stressed', 'worthless',\n",
       "       'depressed', 'happy', 'casual', 'anxious', 'not-talking', 'sleep',\n",
       "       'scared', 'death', 'understand', 'done', 'suicide', 'hate-you',\n",
       "       'hate-me', 'default', 'jokes', 'repeat', 'wrong', 'stupid',\n",
       "       'location', 'something-else', 'friends', 'ask', 'problem',\n",
       "       'no-approach', 'learn-more', 'user-agree', 'meditation',\n",
       "       'user-meditation', 'pandora-useful', 'user-advice',\n",
       "       'learn-mental-health', 'mental-health-fact', 'fact-1', 'fact-2',\n",
       "       'fact-3', 'fact-5', 'fact-6', 'fact-7', 'fact-8', 'fact-9',\n",
       "       'fact-10', 'fact-11', 'fact-12', 'fact-13', 'fact-14', 'fact-15',\n",
       "       'fact-16', 'fact-17', 'fact-18', 'fact-19', 'fact-20', 'fact-21',\n",
       "       'fact-22', 'fact-23', 'fact-24', 'fact-25', 'fact-26', 'fact-27',\n",
       "       'fact-28', 'fact-29', 'fact-30', 'fact-31', 'fact-32'],\n",
       "      dtype=object)"
      ]
     },
     "execution_count": 21,
     "metadata": {},
     "output_type": "execute_result"
    }
   ],
   "source": [
    "df['tag'].unique()"
   ]
  },
  {
   "cell_type": "code",
   "execution_count": null,
   "metadata": {},
   "outputs": [
    {
     "data": {
      "text/plain": [
       "{'num_words': None,\n",
       " 'filters': '!\"#$%&()*+,-./:;<=>?@[\\\\]^_`{|}~\\t\\n',\n",
       " 'lower': True,\n",
       " 'split': ' ',\n",
       " 'char_level': False,\n",
       " 'oov_token': None,\n",
       " 'document_count': 232,\n",
       " 'word_counts': '{\"hi\": 2, \"hey\": 2, \"is\": 13, \"anyone\": 2, \"there\": 5, \"hello\": 1, \"howdy\": 1, \"hola\": 1, \"bonjour\": 1, \"konnichiwa\": 1, \"guten\": 1, \"tag\": 1, \"ola\": 1, \"good\": 5, \"morning\": 1, \"afternoon\": 1, \"evening\": 1, \"night\": 1, \"bye\": 3, \"see\": 2, \"you\": 38, \"later\": 1, \"goodbye\": 1, \"au\": 1, \"revoir\": 1, \"sayonara\": 1, \"ok\": 4, \"then\": 1, \"fare\": 1, \"thee\": 1, \"well\": 2, \"thanks\": 2, \"thank\": 3, \"that\\'s\": 3, \"helpful\": 1, \"for\": 10, \"the\": 10, \"help\": 6, \"than\": 1, \"very\": 3, \"much\": 4, \"nothing\": 3, \"who\": 6, \"are\": 15, \"what\": 29, \"tell\": 6, \"me\": 19, \"more\": 6, \"about\": 20, \"yourself\": 3, \"your\": 3, \"name\": 4, \"should\": 3, \"i\": 95, \"call\": 1, \"what\\'s\": 3, \"can\": 16, \"do\": 14, \"created\": 2, \"how\": 8, \"were\": 2, \"made\": 1, \"my\": 13, \"am\": 17, \"go\": 4, \"by\": 1, \"could\": 2, \"give\": 1, \"a\": 12, \"hand\": 1, \"please\": 2, \"need\": 6, \"support\": 3, \"feeling\": 1, \"lonely\": 4, \"so\": 10, \"feel\": 16, \"down\": 1, \"sad\": 2, \"empty\": 1, \"don\\'t\": 11, \"have\": 9, \"stressed\": 4, \"out\": 3, \"stuck\": 1, \"still\": 1, \"burned\": 1, \"worthless\": 1, \"no\": 5, \"one\": 1, \"likes\": 1, \"can\\'t\": 7, \"anything\": 2, \"useless\": 2, \"makes\": 1, \"sense\": 2, \"anymore\": 2, \"take\": 1, \"it\": 7, \"depressed\": 3, \"think\": 3, \"i\\'m\": 9, \"depression\": 7, \"great\": 1, \"today\": 1, \"happy\": 2, \"cheerful\": 1, \"fine\": 2, \"oh\": 1, \"okay\": 1, \"nice\": 1, \"whatever\": 1, \"k\": 1, \"yeah\": 3, \"yes\": 2, \"not\": 5, \"really\": 2, \"anxious\": 2, \"because\": 4, \"of\": 8, \"want\": 9, \"to\": 24, \"talk\": 5, \"just\": 3, \"stay\": 1, \"away\": 4, \"bring\": 1, \"myself\": 7, \"open\": 1, \"up\": 2, \"shut\": 1, \"insominia\": 1, \"suffering\": 2, \"from\": 2, \"insomnia\": 1, \"sleep\": 3, \"haven\\'t\": 2, \"slept\": 1, \"last\": 1, \"days\": 2, \"seem\": 1, \"had\": 1, \"proper\": 1, \"past\": 1, \"few\": 1, \"scared\": 2, \"that\": 8, \"sounds\": 3, \"awful\": 1, \"this\": 3, \"way\": 1, \"mom\": 1, \"died\": 3, \"brother\": 1, \"dad\": 1, \"passed\": 3, \"sister\": 1, \"someone\": 2, \"in\": 3, \"family\": 2, \"friend\": 1, \"understand\": 1, \"you\\'re\": 5, \"some\": 4, \"robot\": 1, \"would\": 5, \"know\": 8, \"possibly\": 1, \"going\": 3, \"through\": 1, \"nobody\": 1, \"understands\": 1, \"all\": 4, \"say\": 2, \"else\": 4, \"be\": 2, \"kill\": 2, \"i\\'ve\": 2, \"thought\": 1, \"killing\": 1, \"die\": 1, \"commit\": 1, \"suicide\": 1, \"hate\": 3, \"like\": 6, \"trust\": 1, \"exams\": 4, \"friends\": 2, \"relationship\": 1, \"boyfriend\": 1, \"girlfriend\": 1, \"money\": 1, \"financial\": 1, \"problems\": 5, \"joke\": 2, \"another\": 2, \"already\": 2, \"told\": 1, \"mentioned\": 1, \"why\": 2, \"repeating\": 1, \"saying\": 1, \"doesn\\'t\": 1, \"make\": 1, \"wrong\": 2, \"response\": 1, \"answer\": 1, \"stupid\": 1, \"crazy\": 1, \"dumb\": 2, \"where\": 6, \"live\": 1, \"location\": 1, \"something\": 4, \"let\\'s\": 1, \"we\": 1, \"any\": 2, \"ask\": 1, \"probably\": 2, \"approaching\": 1, \"prepared\": 1, \"enough\": 1, \"guess\": 2, \"sure\": 1, \"learn\": 6, \"right\": 3, \"deserve\": 1, \"break\": 1, \"absolutely\": 1, \"hmmm\": 1, \"useful\": 2, \"did\": 1, \"said\": 1, \"and\": 5, \"alot\": 1, \"better\": 2, \"now\": 1, \"again\": 1, \"i\\'ll\": 1, \"continue\": 1, \"practicing\": 1, \"meditation\": 1, \"focus\": 1, \"on\": 2, \"control\": 1, \"advice\": 3, \"mental\": 25, \"health\": 19, \"interested\": 1, \"learning\": 1, \"fact\": 2, \"define\": 2, \"important\": 1, \"importance\": 1, \"if\": 6, \"mentally\": 1, \"ill\": 1, \"therapist\": 2, \"does\": 3, \"therapy\": 4, \"mean\": 1, \"illness\": 5, \"affect\": 1, \"causes\": 2, \"warning\": 1, \"signs\": 1, \"people\": 1, \"with\": 1, \"recover\": 1, \"appears\": 1, \"symptoms\": 1, \"disorder\": 1, \"find\": 4, \"professional\": 2, \"or\": 2, \"child\": 2, \"treatment\": 3, \"options\": 1, \"available\": 1, \"become\": 1, \"involved\": 1, \"difference\": 4, \"between\": 4, \"professionals\": 2, \"get\": 1, \"before\": 1, \"starting\": 1, \"new\": 1, \"medication\": 1, \"types\": 2, \"different\": 1, \"group\": 1, \"prevent\": 1, \"cures\": 1, \"cure\": 1, \"worried\": 1, \"unwell\": 1, \"maintain\": 1, \"social\": 1, \"connections\": 1, \"anxiety\": 1, \"stress\": 1, \"sadness\": 2}',\n",
       " 'word_docs': '{\"hi\": 2, \"hey\": 2, \"is\": 13, \"there\": 5, \"anyone\": 2, \"hello\": 1, \"howdy\": 1, \"hola\": 1, \"bonjour\": 1, \"konnichiwa\": 1, \"guten\": 1, \"tag\": 1, \"ola\": 1, \"good\": 5, \"morning\": 1, \"afternoon\": 1, \"evening\": 1, \"night\": 1, \"bye\": 3, \"you\": 37, \"see\": 2, \"later\": 1, \"goodbye\": 1, \"revoir\": 1, \"au\": 1, \"sayonara\": 1, \"ok\": 4, \"then\": 1, \"thee\": 1, \"fare\": 1, \"well\": 2, \"thanks\": 2, \"thank\": 3, \"helpful\": 1, \"that\\'s\": 3, \"help\": 6, \"for\": 10, \"the\": 10, \"much\": 4, \"than\": 1, \"very\": 3, \"nothing\": 3, \"are\": 15, \"who\": 6, \"what\": 29, \"about\": 20, \"more\": 6, \"me\": 19, \"tell\": 6, \"yourself\": 3, \"name\": 4, \"your\": 3, \"i\": 88, \"call\": 1, \"should\": 3, \"what\\'s\": 3, \"can\": 16, \"do\": 12, \"created\": 2, \"were\": 2, \"how\": 8, \"made\": 1, \"my\": 13, \"am\": 17, \"by\": 1, \"go\": 4, \"could\": 2, \"a\": 12, \"please\": 2, \"hand\": 1, \"give\": 1, \"need\": 6, \"support\": 3, \"lonely\": 4, \"feeling\": 1, \"so\": 10, \"feel\": 16, \"down\": 1, \"sad\": 2, \"empty\": 1, \"don\\'t\": 11, \"have\": 9, \"out\": 3, \"stressed\": 4, \"stuck\": 1, \"still\": 1, \"burned\": 1, \"worthless\": 1, \"no\": 5, \"likes\": 1, \"one\": 1, \"can\\'t\": 7, \"anything\": 2, \"useless\": 2, \"sense\": 2, \"makes\": 1, \"anymore\": 2, \"it\": 7, \"take\": 1, \"depressed\": 3, \"think\": 3, \"i\\'m\": 9, \"depression\": 7, \"great\": 1, \"today\": 1, \"happy\": 2, \"cheerful\": 1, \"fine\": 2, \"oh\": 1, \"okay\": 1, \"nice\": 1, \"whatever\": 1, \"k\": 1, \"yeah\": 3, \"yes\": 2, \"really\": 2, \"not\": 5, \"anxious\": 2, \"of\": 7, \"because\": 3, \"talk\": 5, \"to\": 23, \"want\": 9, \"away\": 4, \"just\": 3, \"stay\": 1, \"myself\": 7, \"open\": 1, \"bring\": 1, \"up\": 2, \"shut\": 1, \"insominia\": 1, \"insomnia\": 1, \"suffering\": 2, \"from\": 2, \"sleep\": 3, \"last\": 1, \"slept\": 1, \"days\": 2, \"haven\\'t\": 2, \"seem\": 1, \"proper\": 1, \"had\": 1, \"few\": 1, \"past\": 1, \"scared\": 2, \"sounds\": 3, \"awful\": 1, \"that\": 8, \"way\": 1, \"this\": 3, \"mom\": 1, \"died\": 3, \"brother\": 1, \"passed\": 3, \"dad\": 1, \"sister\": 1, \"family\": 2, \"in\": 3, \"someone\": 2, \"friend\": 1, \"understand\": 1, \"some\": 4, \"would\": 5, \"you\\'re\": 5, \"robot\": 1, \"know\": 8, \"through\": 1, \"possibly\": 1, \"going\": 3, \"understands\": 1, \"nobody\": 1, \"all\": 4, \"say\": 2, \"else\": 4, \"be\": 2, \"kill\": 2, \"thought\": 1, \"i\\'ve\": 2, \"killing\": 1, \"die\": 1, \"commit\": 1, \"suicide\": 1, \"hate\": 3, \"like\": 6, \"trust\": 1, \"exams\": 4, \"friends\": 2, \"relationship\": 1, \"boyfriend\": 1, \"girlfriend\": 1, \"money\": 1, \"problems\": 5, \"financial\": 1, \"joke\": 2, \"another\": 2, \"told\": 1, \"already\": 2, \"mentioned\": 1, \"repeating\": 1, \"why\": 2, \"saying\": 1, \"doesn\\'t\": 1, \"make\": 1, \"wrong\": 2, \"response\": 1, \"answer\": 1, \"stupid\": 1, \"crazy\": 1, \"dumb\": 2, \"where\": 6, \"live\": 1, \"location\": 1, \"something\": 4, \"let\\'s\": 1, \"we\": 1, \"any\": 2, \"ask\": 1, \"prepared\": 1, \"probably\": 2, \"enough\": 1, \"approaching\": 1, \"guess\": 2, \"learn\": 6, \"sure\": 1, \"deserve\": 1, \"break\": 1, \"right\": 3, \"absolutely\": 1, \"useful\": 2, \"hmmm\": 1, \"did\": 1, \"better\": 2, \"said\": 1, \"and\": 5, \"alot\": 1, \"now\": 1, \"focus\": 1, \"meditation\": 1, \"i\\'ll\": 1, \"continue\": 1, \"practicing\": 1, \"on\": 2, \"control\": 1, \"again\": 1, \"advice\": 3, \"health\": 19, \"mental\": 25, \"interested\": 1, \"learning\": 1, \"fact\": 2, \"define\": 2, \"important\": 1, \"importance\": 1, \"if\": 6, \"ill\": 1, \"mentally\": 1, \"therapist\": 2, \"does\": 3, \"therapy\": 4, \"illness\": 5, \"mean\": 1, \"affect\": 1, \"causes\": 2, \"signs\": 1, \"warning\": 1, \"recover\": 1, \"with\": 1, \"people\": 1, \"appears\": 1, \"symptoms\": 1, \"disorder\": 1, \"professional\": 2, \"child\": 2, \"or\": 2, \"find\": 4, \"treatment\": 3, \"options\": 1, \"available\": 1, \"involved\": 1, \"become\": 1, \"professionals\": 2, \"difference\": 4, \"between\": 4, \"get\": 1, \"medication\": 1, \"starting\": 1, \"new\": 1, \"before\": 1, \"types\": 2, \"different\": 1, \"group\": 1, \"prevent\": 1, \"cures\": 1, \"cure\": 1, \"worried\": 1, \"unwell\": 1, \"maintain\": 1, \"connections\": 1, \"social\": 1, \"stress\": 1, \"anxiety\": 1, \"sadness\": 2}',\n",
       " 'index_docs': '{\"95\": 2, \"96\": 2, \"14\": 13, \"41\": 5, \"97\": 2, \"150\": 1, \"151\": 1, \"152\": 1, \"153\": 1, \"154\": 1, \"155\": 1, \"156\": 1, \"157\": 1, \"42\": 5, \"158\": 1, \"159\": 1, \"160\": 1, \"161\": 1, \"68\": 3, \"2\": 37, \"98\": 2, \"162\": 1, \"163\": 1, \"165\": 1, \"164\": 1, \"166\": 1, \"51\": 4, \"167\": 1, \"169\": 1, \"168\": 1, \"99\": 2, \"100\": 2, \"69\": 3, \"170\": 1, \"70\": 3, \"32\": 6, \"18\": 10, \"19\": 10, \"52\": 4, \"171\": 1, \"71\": 3, \"72\": 3, \"12\": 15, \"33\": 6, \"3\": 29, \"6\": 20, \"35\": 6, \"7\": 19, \"34\": 6, \"73\": 3, \"53\": 4, \"74\": 3, \"1\": 88, \"172\": 1, \"75\": 3, \"76\": 3, \"10\": 16, \"13\": 12, \"101\": 2, \"102\": 2, \"24\": 8, \"173\": 1, \"15\": 13, \"9\": 17, \"174\": 1, \"54\": 4, \"103\": 2, \"16\": 12, \"104\": 2, \"176\": 1, \"175\": 1, \"36\": 6, \"77\": 3, \"55\": 4, \"177\": 1, \"20\": 10, \"11\": 16, \"178\": 1, \"105\": 2, \"179\": 1, \"17\": 11, \"21\": 9, \"78\": 3, \"56\": 4, \"180\": 1, \"181\": 1, \"182\": 1, \"183\": 1, \"43\": 5, \"185\": 1, \"184\": 1, \"28\": 7, \"106\": 2, \"107\": 2, \"108\": 2, \"186\": 1, \"109\": 2, \"29\": 7, \"187\": 1, \"79\": 3, \"80\": 3, \"22\": 9, \"30\": 7, \"188\": 1, \"189\": 1, \"110\": 2, \"190\": 1, \"111\": 2, \"191\": 1, \"192\": 1, \"193\": 1, \"194\": 1, \"195\": 1, \"81\": 3, \"112\": 2, \"113\": 2, \"44\": 5, \"114\": 2, \"25\": 7, \"57\": 3, \"45\": 5, \"5\": 23, \"23\": 9, \"58\": 4, \"82\": 3, \"196\": 1, \"31\": 7, \"198\": 1, \"197\": 1, \"115\": 2, \"199\": 1, \"200\": 1, \"201\": 1, \"116\": 2, \"117\": 2, \"83\": 3, \"203\": 1, \"202\": 1, \"119\": 2, \"118\": 2, \"204\": 1, \"206\": 1, \"205\": 1, \"208\": 1, \"207\": 1, \"120\": 2, \"84\": 3, \"209\": 1, \"26\": 8, \"210\": 1, \"85\": 3, \"211\": 1, \"86\": 3, \"212\": 1, \"87\": 3, \"213\": 1, \"214\": 1, \"122\": 2, \"88\": 3, \"121\": 2, \"215\": 1, \"216\": 1, \"59\": 4, \"47\": 5, \"46\": 5, \"217\": 1, \"27\": 8, \"219\": 1, \"218\": 1, \"89\": 3, \"221\": 1, \"220\": 1, \"60\": 4, \"123\": 2, \"61\": 4, \"124\": 2, \"125\": 2, \"222\": 1, \"126\": 2, \"223\": 1, \"224\": 1, \"225\": 1, \"226\": 1, \"90\": 3, \"37\": 6, \"227\": 1, \"62\": 4, \"127\": 2, \"228\": 1, \"229\": 1, \"230\": 1, \"231\": 1, \"48\": 5, \"232\": 1, \"128\": 2, \"129\": 2, \"233\": 1, \"130\": 2, \"234\": 1, \"235\": 1, \"131\": 2, \"236\": 1, \"237\": 1, \"238\": 1, \"132\": 2, \"239\": 1, \"240\": 1, \"241\": 1, \"242\": 1, \"133\": 2, \"38\": 6, \"243\": 1, \"244\": 1, \"63\": 4, \"245\": 1, \"246\": 1, \"134\": 2, \"247\": 1, \"249\": 1, \"135\": 2, \"250\": 1, \"248\": 1, \"136\": 2, \"39\": 6, \"251\": 1, \"252\": 1, \"253\": 1, \"91\": 3, \"254\": 1, \"137\": 2, \"255\": 1, \"256\": 1, \"138\": 2, \"257\": 1, \"49\": 5, \"258\": 1, \"259\": 1, \"265\": 1, \"264\": 1, \"261\": 1, \"262\": 1, \"263\": 1, \"139\": 2, \"266\": 1, \"260\": 1, \"92\": 3, \"8\": 19, \"4\": 25, \"267\": 1, \"268\": 1, \"140\": 2, \"141\": 2, \"269\": 1, \"270\": 1, \"40\": 6, \"272\": 1, \"271\": 1, \"142\": 2, \"93\": 3, \"64\": 4, \"50\": 5, \"273\": 1, \"274\": 1, \"143\": 2, \"276\": 1, \"275\": 1, \"279\": 1, \"278\": 1, \"277\": 1, \"280\": 1, \"281\": 1, \"282\": 1, \"144\": 2, \"146\": 2, \"145\": 2, \"65\": 4, \"94\": 3, \"283\": 1, \"284\": 1, \"286\": 1, \"285\": 1, \"147\": 2, \"66\": 4, \"67\": 4, \"287\": 1, \"291\": 1, \"289\": 1, \"290\": 1, \"288\": 1, \"148\": 2, \"292\": 1, \"293\": 1, \"294\": 1, \"295\": 1, \"296\": 1, \"297\": 1, \"298\": 1, \"299\": 1, \"301\": 1, \"300\": 1, \"303\": 1, \"302\": 1, \"149\": 2}',\n",
       " 'index_word': '{\"1\": \"i\", \"2\": \"you\", \"3\": \"what\", \"4\": \"mental\", \"5\": \"to\", \"6\": \"about\", \"7\": \"me\", \"8\": \"health\", \"9\": \"am\", \"10\": \"can\", \"11\": \"feel\", \"12\": \"are\", \"13\": \"do\", \"14\": \"is\", \"15\": \"my\", \"16\": \"a\", \"17\": \"don\\'t\", \"18\": \"for\", \"19\": \"the\", \"20\": \"so\", \"21\": \"have\", \"22\": \"i\\'m\", \"23\": \"want\", \"24\": \"how\", \"25\": \"of\", \"26\": \"that\", \"27\": \"know\", \"28\": \"can\\'t\", \"29\": \"it\", \"30\": \"depression\", \"31\": \"myself\", \"32\": \"help\", \"33\": \"who\", \"34\": \"tell\", \"35\": \"more\", \"36\": \"need\", \"37\": \"like\", \"38\": \"where\", \"39\": \"learn\", \"40\": \"if\", \"41\": \"there\", \"42\": \"good\", \"43\": \"no\", \"44\": \"not\", \"45\": \"talk\", \"46\": \"you\\'re\", \"47\": \"would\", \"48\": \"problems\", \"49\": \"and\", \"50\": \"illness\", \"51\": \"ok\", \"52\": \"much\", \"53\": \"name\", \"54\": \"go\", \"55\": \"lonely\", \"56\": \"stressed\", \"57\": \"because\", \"58\": \"away\", \"59\": \"some\", \"60\": \"all\", \"61\": \"else\", \"62\": \"exams\", \"63\": \"something\", \"64\": \"therapy\", \"65\": \"find\", \"66\": \"difference\", \"67\": \"between\", \"68\": \"bye\", \"69\": \"thank\", \"70\": \"that\\'s\", \"71\": \"very\", \"72\": \"nothing\", \"73\": \"yourself\", \"74\": \"your\", \"75\": \"should\", \"76\": \"what\\'s\", \"77\": \"support\", \"78\": \"out\", \"79\": \"depressed\", \"80\": \"think\", \"81\": \"yeah\", \"82\": \"just\", \"83\": \"sleep\", \"84\": \"sounds\", \"85\": \"this\", \"86\": \"died\", \"87\": \"passed\", \"88\": \"in\", \"89\": \"going\", \"90\": \"hate\", \"91\": \"right\", \"92\": \"advice\", \"93\": \"does\", \"94\": \"treatment\", \"95\": \"hi\", \"96\": \"hey\", \"97\": \"anyone\", \"98\": \"see\", \"99\": \"well\", \"100\": \"thanks\", \"101\": \"created\", \"102\": \"were\", \"103\": \"could\", \"104\": \"please\", \"105\": \"sad\", \"106\": \"anything\", \"107\": \"useless\", \"108\": \"sense\", \"109\": \"anymore\", \"110\": \"happy\", \"111\": \"fine\", \"112\": \"yes\", \"113\": \"really\", \"114\": \"anxious\", \"115\": \"up\", \"116\": \"suffering\", \"117\": \"from\", \"118\": \"haven\\'t\", \"119\": \"days\", \"120\": \"scared\", \"121\": \"someone\", \"122\": \"family\", \"123\": \"say\", \"124\": \"be\", \"125\": \"kill\", \"126\": \"i\\'ve\", \"127\": \"friends\", \"128\": \"joke\", \"129\": \"another\", \"130\": \"already\", \"131\": \"why\", \"132\": \"wrong\", \"133\": \"dumb\", \"134\": \"any\", \"135\": \"probably\", \"136\": \"guess\", \"137\": \"useful\", \"138\": \"better\", \"139\": \"on\", \"140\": \"fact\", \"141\": \"define\", \"142\": \"therapist\", \"143\": \"causes\", \"144\": \"professional\", \"145\": \"or\", \"146\": \"child\", \"147\": \"professionals\", \"148\": \"types\", \"149\": \"sadness\", \"150\": \"hello\", \"151\": \"howdy\", \"152\": \"hola\", \"153\": \"bonjour\", \"154\": \"konnichiwa\", \"155\": \"guten\", \"156\": \"tag\", \"157\": \"ola\", \"158\": \"morning\", \"159\": \"afternoon\", \"160\": \"evening\", \"161\": \"night\", \"162\": \"later\", \"163\": \"goodbye\", \"164\": \"au\", \"165\": \"revoir\", \"166\": \"sayonara\", \"167\": \"then\", \"168\": \"fare\", \"169\": \"thee\", \"170\": \"helpful\", \"171\": \"than\", \"172\": \"call\", \"173\": \"made\", \"174\": \"by\", \"175\": \"give\", \"176\": \"hand\", \"177\": \"feeling\", \"178\": \"down\", \"179\": \"empty\", \"180\": \"stuck\", \"181\": \"still\", \"182\": \"burned\", \"183\": \"worthless\", \"184\": \"one\", \"185\": \"likes\", \"186\": \"makes\", \"187\": \"take\", \"188\": \"great\", \"189\": \"today\", \"190\": \"cheerful\", \"191\": \"oh\", \"192\": \"okay\", \"193\": \"nice\", \"194\": \"whatever\", \"195\": \"k\", \"196\": \"stay\", \"197\": \"bring\", \"198\": \"open\", \"199\": \"shut\", \"200\": \"insominia\", \"201\": \"insomnia\", \"202\": \"slept\", \"203\": \"last\", \"204\": \"seem\", \"205\": \"had\", \"206\": \"proper\", \"207\": \"past\", \"208\": \"few\", \"209\": \"awful\", \"210\": \"way\", \"211\": \"mom\", \"212\": \"brother\", \"213\": \"dad\", \"214\": \"sister\", \"215\": \"friend\", \"216\": \"understand\", \"217\": \"robot\", \"218\": \"possibly\", \"219\": \"through\", \"220\": \"nobody\", \"221\": \"understands\", \"222\": \"thought\", \"223\": \"killing\", \"224\": \"die\", \"225\": \"commit\", \"226\": \"suicide\", \"227\": \"trust\", \"228\": \"relationship\", \"229\": \"boyfriend\", \"230\": \"girlfriend\", \"231\": \"money\", \"232\": \"financial\", \"233\": \"told\", \"234\": \"mentioned\", \"235\": \"repeating\", \"236\": \"saying\", \"237\": \"doesn\\'t\", \"238\": \"make\", \"239\": \"response\", \"240\": \"answer\", \"241\": \"stupid\", \"242\": \"crazy\", \"243\": \"live\", \"244\": \"location\", \"245\": \"let\\'s\", \"246\": \"we\", \"247\": \"ask\", \"248\": \"approaching\", \"249\": \"prepared\", \"250\": \"enough\", \"251\": \"sure\", \"252\": \"deserve\", \"253\": \"break\", \"254\": \"absolutely\", \"255\": \"hmmm\", \"256\": \"did\", \"257\": \"said\", \"258\": \"alot\", \"259\": \"now\", \"260\": \"again\", \"261\": \"i\\'ll\", \"262\": \"continue\", \"263\": \"practicing\", \"264\": \"meditation\", \"265\": \"focus\", \"266\": \"control\", \"267\": \"interested\", \"268\": \"learning\", \"269\": \"important\", \"270\": \"importance\", \"271\": \"mentally\", \"272\": \"ill\", \"273\": \"mean\", \"274\": \"affect\", \"275\": \"warning\", \"276\": \"signs\", \"277\": \"people\", \"278\": \"with\", \"279\": \"recover\", \"280\": \"appears\", \"281\": \"symptoms\", \"282\": \"disorder\", \"283\": \"options\", \"284\": \"available\", \"285\": \"become\", \"286\": \"involved\", \"287\": \"get\", \"288\": \"before\", \"289\": \"starting\", \"290\": \"new\", \"291\": \"medication\", \"292\": \"different\", \"293\": \"group\", \"294\": \"prevent\", \"295\": \"cures\", \"296\": \"cure\", \"297\": \"worried\", \"298\": \"unwell\", \"299\": \"maintain\", \"300\": \"social\", \"301\": \"connections\", \"302\": \"anxiety\", \"303\": \"stress\"}',\n",
       " 'word_index': '{\"i\": 1, \"you\": 2, \"what\": 3, \"mental\": 4, \"to\": 5, \"about\": 6, \"me\": 7, \"health\": 8, \"am\": 9, \"can\": 10, \"feel\": 11, \"are\": 12, \"do\": 13, \"is\": 14, \"my\": 15, \"a\": 16, \"don\\'t\": 17, \"for\": 18, \"the\": 19, \"so\": 20, \"have\": 21, \"i\\'m\": 22, \"want\": 23, \"how\": 24, \"of\": 25, \"that\": 26, \"know\": 27, \"can\\'t\": 28, \"it\": 29, \"depression\": 30, \"myself\": 31, \"help\": 32, \"who\": 33, \"tell\": 34, \"more\": 35, \"need\": 36, \"like\": 37, \"where\": 38, \"learn\": 39, \"if\": 40, \"there\": 41, \"good\": 42, \"no\": 43, \"not\": 44, \"talk\": 45, \"you\\'re\": 46, \"would\": 47, \"problems\": 48, \"and\": 49, \"illness\": 50, \"ok\": 51, \"much\": 52, \"name\": 53, \"go\": 54, \"lonely\": 55, \"stressed\": 56, \"because\": 57, \"away\": 58, \"some\": 59, \"all\": 60, \"else\": 61, \"exams\": 62, \"something\": 63, \"therapy\": 64, \"find\": 65, \"difference\": 66, \"between\": 67, \"bye\": 68, \"thank\": 69, \"that\\'s\": 70, \"very\": 71, \"nothing\": 72, \"yourself\": 73, \"your\": 74, \"should\": 75, \"what\\'s\": 76, \"support\": 77, \"out\": 78, \"depressed\": 79, \"think\": 80, \"yeah\": 81, \"just\": 82, \"sleep\": 83, \"sounds\": 84, \"this\": 85, \"died\": 86, \"passed\": 87, \"in\": 88, \"going\": 89, \"hate\": 90, \"right\": 91, \"advice\": 92, \"does\": 93, \"treatment\": 94, \"hi\": 95, \"hey\": 96, \"anyone\": 97, \"see\": 98, \"well\": 99, \"thanks\": 100, \"created\": 101, \"were\": 102, \"could\": 103, \"please\": 104, \"sad\": 105, \"anything\": 106, \"useless\": 107, \"sense\": 108, \"anymore\": 109, \"happy\": 110, \"fine\": 111, \"yes\": 112, \"really\": 113, \"anxious\": 114, \"up\": 115, \"suffering\": 116, \"from\": 117, \"haven\\'t\": 118, \"days\": 119, \"scared\": 120, \"someone\": 121, \"family\": 122, \"say\": 123, \"be\": 124, \"kill\": 125, \"i\\'ve\": 126, \"friends\": 127, \"joke\": 128, \"another\": 129, \"already\": 130, \"why\": 131, \"wrong\": 132, \"dumb\": 133, \"any\": 134, \"probably\": 135, \"guess\": 136, \"useful\": 137, \"better\": 138, \"on\": 139, \"fact\": 140, \"define\": 141, \"therapist\": 142, \"causes\": 143, \"professional\": 144, \"or\": 145, \"child\": 146, \"professionals\": 147, \"types\": 148, \"sadness\": 149, \"hello\": 150, \"howdy\": 151, \"hola\": 152, \"bonjour\": 153, \"konnichiwa\": 154, \"guten\": 155, \"tag\": 156, \"ola\": 157, \"morning\": 158, \"afternoon\": 159, \"evening\": 160, \"night\": 161, \"later\": 162, \"goodbye\": 163, \"au\": 164, \"revoir\": 165, \"sayonara\": 166, \"then\": 167, \"fare\": 168, \"thee\": 169, \"helpful\": 170, \"than\": 171, \"call\": 172, \"made\": 173, \"by\": 174, \"give\": 175, \"hand\": 176, \"feeling\": 177, \"down\": 178, \"empty\": 179, \"stuck\": 180, \"still\": 181, \"burned\": 182, \"worthless\": 183, \"one\": 184, \"likes\": 185, \"makes\": 186, \"take\": 187, \"great\": 188, \"today\": 189, \"cheerful\": 190, \"oh\": 191, \"okay\": 192, \"nice\": 193, \"whatever\": 194, \"k\": 195, \"stay\": 196, \"bring\": 197, \"open\": 198, \"shut\": 199, \"insominia\": 200, \"insomnia\": 201, \"slept\": 202, \"last\": 203, \"seem\": 204, \"had\": 205, \"proper\": 206, \"past\": 207, \"few\": 208, \"awful\": 209, \"way\": 210, \"mom\": 211, \"brother\": 212, \"dad\": 213, \"sister\": 214, \"friend\": 215, \"understand\": 216, \"robot\": 217, \"possibly\": 218, \"through\": 219, \"nobody\": 220, \"understands\": 221, \"thought\": 222, \"killing\": 223, \"die\": 224, \"commit\": 225, \"suicide\": 226, \"trust\": 227, \"relationship\": 228, \"boyfriend\": 229, \"girlfriend\": 230, \"money\": 231, \"financial\": 232, \"told\": 233, \"mentioned\": 234, \"repeating\": 235, \"saying\": 236, \"doesn\\'t\": 237, \"make\": 238, \"response\": 239, \"answer\": 240, \"stupid\": 241, \"crazy\": 242, \"live\": 243, \"location\": 244, \"let\\'s\": 245, \"we\": 246, \"ask\": 247, \"approaching\": 248, \"prepared\": 249, \"enough\": 250, \"sure\": 251, \"deserve\": 252, \"break\": 253, \"absolutely\": 254, \"hmmm\": 255, \"did\": 256, \"said\": 257, \"alot\": 258, \"now\": 259, \"again\": 260, \"i\\'ll\": 261, \"continue\": 262, \"practicing\": 263, \"meditation\": 264, \"focus\": 265, \"control\": 266, \"interested\": 267, \"learning\": 268, \"important\": 269, \"importance\": 270, \"mentally\": 271, \"ill\": 272, \"mean\": 273, \"affect\": 274, \"warning\": 275, \"signs\": 276, \"people\": 277, \"with\": 278, \"recover\": 279, \"appears\": 280, \"symptoms\": 281, \"disorder\": 282, \"options\": 283, \"available\": 284, \"become\": 285, \"involved\": 286, \"get\": 287, \"before\": 288, \"starting\": 289, \"new\": 290, \"medication\": 291, \"different\": 292, \"group\": 293, \"prevent\": 294, \"cures\": 295, \"cure\": 296, \"worried\": 297, \"unwell\": 298, \"maintain\": 299, \"social\": 300, \"connections\": 301, \"anxiety\": 302, \"stress\": 303}'}"
      ]
     },
     "execution_count": 22,
     "metadata": {},
     "output_type": "execute_result"
    }
   ],
   "source": [
    "from tensorflow.keras.preprocessing.text import Tokenizer\n",
    "\n",
    "tokenizer = Tokenizer(lower=True, split=' ')\n",
    "tokenizer.fit_on_texts(df['patterns'])\n",
    "tokenizer.get_config()  "
   ]
  },
  {
   "cell_type": "code",
   "execution_count": null,
   "metadata": {},
   "outputs": [
    {
     "name": "stdout",
     "output_type": "stream",
     "text": [
      "number of unique words =  303\n"
     ]
    }
   ],
   "source": [
    "vacab_size = len(tokenizer.word_index)\n",
    "print('number of unique words = ', vacab_size)"
   ]
  },
  {
   "cell_type": "code",
   "execution_count": null,
   "metadata": {},
   "outputs": [
    {
     "name": "stdout",
     "output_type": "stream",
     "text": [
      "X shape =  (232, 18)\n",
      "y shape =  (232,)\n",
      "num of classes =  80\n"
     ]
    }
   ],
   "source": [
    "from tensorflow.keras.preprocessing.sequence import pad_sequences\n",
    "from sklearn.preprocessing import LabelEncoder\n",
    "\n",
    "ptrn2seq = tokenizer.texts_to_sequences(df['patterns'])\n",
    "X = pad_sequences(ptrn2seq, padding='post')\n",
    "print('X shape = ', X.shape)\n",
    "\n",
    "lbl_enc = LabelEncoder()\n",
    "y = lbl_enc.fit_transform(df['tag'])\n",
    "print('y shape = ', y.shape)\n",
    "print('num of classes = ', len(np.unique(y)))"
   ]
  },
  {
   "cell_type": "code",
   "execution_count": null,
   "metadata": {},
   "outputs": [
    {
     "name": "stdout",
     "output_type": "stream",
     "text": [
      "Model: \"sequential_1\"\n",
      "_________________________________________________________________\n",
      " Layer (type)                Output Shape              Param #   \n",
      "=================================================================\n",
      " embedding_1 (Embedding)     (None, 18, 100)           30400     \n",
      "                                                                 \n",
      " lstm_3 (LSTM)               (None, 18, 32)            17024     \n",
      "                                                                 \n",
      " layer_normalization_5 (Laye  (None, 18, 32)           64        \n",
      " rNormalization)                                                 \n",
      "                                                                 \n",
      " lstm_4 (LSTM)               (None, 18, 32)            8320      \n",
      "                                                                 \n",
      " layer_normalization_6 (Laye  (None, 18, 32)           64        \n",
      " rNormalization)                                                 \n",
      "                                                                 \n",
      " lstm_5 (LSTM)               (None, 32)                8320      \n",
      "                                                                 \n",
      " layer_normalization_7 (Laye  (None, 32)               64        \n",
      " rNormalization)                                                 \n",
      "                                                                 \n",
      " dense_3 (Dense)             (None, 128)               4224      \n",
      "                                                                 \n",
      " layer_normalization_8 (Laye  (None, 128)              256       \n",
      " rNormalization)                                                 \n",
      "                                                                 \n",
      " dropout_2 (Dropout)         (None, 128)               0         \n",
      "                                                                 \n",
      " dense_4 (Dense)             (None, 128)               16512     \n",
      "                                                                 \n",
      " layer_normalization_9 (Laye  (None, 128)              256       \n",
      " rNormalization)                                                 \n",
      "                                                                 \n",
      " dropout_3 (Dropout)         (None, 128)               0         \n",
      "                                                                 \n",
      " dense_5 (Dense)             (None, 80)                10320     \n",
      "                                                                 \n",
      "=================================================================\n",
      "Total params: 95,824\n",
      "Trainable params: 95,824\n",
      "Non-trainable params: 0\n",
      "_________________________________________________________________\n",
      "You must install pydot (`pip install pydot`) and install graphviz (see instructions at https://graphviz.gitlab.io/download/) for plot_model to work.\n"
     ]
    }
   ],
   "source": [
    "import tensorflow\n",
    "from tensorflow import keras\n",
    "from tensorflow.keras.models import Sequential\n",
    "from tensorflow.keras.layers import Input, Embedding, LSTM, LayerNormalization, Dense, Dropout\n",
    "from tensorflow.keras.utils import plot_model\n",
    "\n",
    "model = Sequential()\n",
    "model.add(Input(shape=(X.shape[1])))\n",
    "model.add(Embedding(input_dim=vacab_size+1, output_dim=100, mask_zero=True))\n",
    "model.add(LSTM(32, return_sequences=True))\n",
    "model.add(LayerNormalization())\n",
    "model.add(LSTM(32, return_sequences=True))\n",
    "model.add(LayerNormalization())\n",
    "model.add(LSTM(32))\n",
    "model.add(LayerNormalization())\n",
    "model.add(Dense(128, activation=\"relu\"))\n",
    "model.add(LayerNormalization())\n",
    "model.add(Dropout(0.2))\n",
    "model.add(Dense(128, activation=\"relu\"))\n",
    "model.add(LayerNormalization())\n",
    "model.add(Dropout(0.2))\n",
    "model.add(Dense(len(np.unique(y)), activation=\"softmax\"))\n",
    "model.compile(optimizer='adam', loss=\"sparse_categorical_crossentropy\", metrics=['accuracy'])\n",
    "\n",
    "model.summary()\n",
    "plot_model(model, show_shapes=True)"
   ]
  },
  {
   "cell_type": "code",
   "execution_count": null,
   "metadata": {},
   "outputs": [
    {
     "name": "stdout",
     "output_type": "stream",
     "text": [
      "Epoch 1/50\n",
      "24/24 [==============================] - 23s 37ms/step - loss: 4.9080 - accuracy: 0.0000e+00\n",
      "Epoch 2/50\n",
      "24/24 [==============================] - 1s 37ms/step - loss: 3.5079 - accuracy: 0.1853\n",
      "Epoch 3/50\n",
      "24/24 [==============================] - 1s 37ms/step - loss: 2.9900 - accuracy: 0.2845\n",
      "Epoch 4/50\n",
      "24/24 [==============================] - 1s 37ms/step - loss: 2.4570 - accuracy: 0.3793\n",
      "Epoch 5/50\n",
      "24/24 [==============================] - 1s 42ms/step - loss: 2.1296 - accuracy: 0.4871\n",
      "Epoch 6/50\n",
      "24/24 [==============================] - 1s 40ms/step - loss: 1.7856 - accuracy: 0.5302\n",
      "Epoch 7/50\n",
      "24/24 [==============================] - 1s 36ms/step - loss: 1.5074 - accuracy: 0.6466\n",
      "Epoch 8/50\n",
      "24/24 [==============================] - 1s 38ms/step - loss: 1.1939 - accuracy: 0.7629\n",
      "Epoch 9/50\n",
      "24/24 [==============================] - 1s 36ms/step - loss: 0.9509 - accuracy: 0.8103\n",
      "Epoch 10/50\n",
      "24/24 [==============================] - 1s 36ms/step - loss: 0.8003 - accuracy: 0.8491\n",
      "Epoch 11/50\n",
      "24/24 [==============================] - 1s 36ms/step - loss: 0.6837 - accuracy: 0.8707\n",
      "Epoch 12/50\n",
      "24/24 [==============================] - 1s 38ms/step - loss: 0.5692 - accuracy: 0.9052\n",
      "Epoch 13/50\n",
      "24/24 [==============================] - 1s 37ms/step - loss: 0.5168 - accuracy: 0.8966\n",
      "Epoch 14/50\n",
      "24/24 [==============================] - 1s 37ms/step - loss: 0.4017 - accuracy: 0.9267\n",
      "Epoch 15/50\n",
      "24/24 [==============================] - 1s 36ms/step - loss: 0.3606 - accuracy: 0.9526\n",
      "Epoch 16/50\n",
      "24/24 [==============================] - 1s 36ms/step - loss: 0.2943 - accuracy: 0.9569\n",
      "Epoch 17/50\n",
      "24/24 [==============================] - 1s 36ms/step - loss: 0.2584 - accuracy: 0.9698\n",
      "Epoch 18/50\n",
      "24/24 [==============================] - 1s 42ms/step - loss: 0.2357 - accuracy: 0.9828\n",
      "Epoch 19/50\n",
      "24/24 [==============================] - 1s 43ms/step - loss: 0.1877 - accuracy: 0.9698\n",
      "Epoch 20/50\n",
      "24/24 [==============================] - 1s 36ms/step - loss: 0.1701 - accuracy: 0.9828\n",
      "Epoch 21/50\n",
      "24/24 [==============================] - 1s 38ms/step - loss: 0.1250 - accuracy: 0.9914\n",
      "Epoch 22/50\n",
      "24/24 [==============================] - 1s 48ms/step - loss: 0.1265 - accuracy: 0.9784\n",
      "Epoch 23/50\n",
      "24/24 [==============================] - 1s 40ms/step - loss: 0.1207 - accuracy: 0.9871\n",
      "Epoch 24/50\n",
      "24/24 [==============================] - 1s 49ms/step - loss: 0.0898 - accuracy: 0.9871\n"
     ]
    }
   ],
   "source": [
    "model_history = model.fit(x=X,\n",
    "                          y=y,\n",
    "                          batch_size=10,\n",
    "                          callbacks=[tensorflow.keras.callbacks.EarlyStopping(monitor='accuracy', patience=3)],\n",
    "                          epochs=60)"
   ]
  },
  {
   "cell_type": "code",
   "execution_count": null,
   "metadata": {},
   "outputs": [],
   "source": [
    "import re\n",
    "import random\n",
    "\n",
    "def generate_answer(pattern): \n",
    "    text = []\n",
    "    txt = re.sub('[^a-zA-Z\\']', ' ', pattern)\n",
    "    txt = txt.lower()\n",
    "    txt = txt.split()\n",
    "    txt = \" \".join(txt)\n",
    "    text.append(txt)\n",
    "        \n",
    "    x_test = tokenizer.texts_to_sequences(text)\n",
    "    x_test = np.array(x_test).squeeze()\n",
    "    x_test = pad_sequences([x_test], padding='post', maxlen=X.shape[1])\n",
    "    y_pred = model.predict(x_test)\n",
    "    y_pred = y_pred.argmax()\n",
    "    tag = lbl_enc.inverse_transform([y_pred])[0]\n",
    "    responses = df[df['tag'] == tag]['responses'].values[0]\n",
    "\n",
    "    print(\"you: {}\".format(pattern))\n",
    "    print(\"model: {}\".format(random.choice(responses)))"
   ]
  },
  {
   "cell_type": "code",
   "execution_count": null,
   "metadata": {},
   "outputs": [
    {
     "name": "stdout",
     "output_type": "stream",
     "text": [
      "1/1 [==============================] - 7s 7s/step\n",
      "you: Hi! How are you?\n",
      "model: Call me Pandora\n"
     ]
    }
   ],
   "source": [
    "generate_answer('Hi! How are you?')"
   ]
  },
  {
   "cell_type": "code",
   "execution_count": null,
   "metadata": {},
   "outputs": [
    {
     "name": "stdout",
     "output_type": "stream",
     "text": [
      "1/1 [==============================] - 0s 41ms/step\n",
      "you: Well... I'm feeling sad!\n",
      "model: Have a nice day.\n"
     ]
    }
   ],
   "source": [
    "generate_answer('Well... I\\'m feeling sad!')"
   ]
  },
  {
   "cell_type": "code",
   "execution_count": null,
   "metadata": {},
   "outputs": [
    {
     "name": "stdout",
     "output_type": "stream",
     "text": [
      "1/1 [==============================] - 0s 53ms/step\n",
      "you: Maybe I just didn't want to be born :)\n",
      "model: I'm here to listen to you and help you vent. So please talk to me.\n"
     ]
    }
   ],
   "source": [
    "generate_answer('Maybe I just didn\\'t want to be born :)')"
   ]
  }
 ],
 "metadata": {
  "kernelspec": {
   "display_name": "Python 3",
   "language": "python",
   "name": "python3"
  },
  "language_info": {
   "codemirror_mode": {
    "name": "ipython",
    "version": 3
   },
   "file_extension": ".py",
   "mimetype": "text/x-python",
   "name": "python",
   "nbconvert_exporter": "python",
   "pygments_lexer": "ipython3",
   "version": "3.11.2"
  },
  "orig_nbformat": 4
 },
 "nbformat": 4,
 "nbformat_minor": 2
}
